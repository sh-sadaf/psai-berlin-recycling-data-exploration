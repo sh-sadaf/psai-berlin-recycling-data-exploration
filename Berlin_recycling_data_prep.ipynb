{
 "cells": [
  {
   "cell_type": "code",
   "execution_count": 1,
   "id": "3d6179ad",
   "metadata": {},
   "outputs": [
    {
     "name": "stderr",
     "output_type": "stream",
     "text": [
      "C:\\ProgramData\\Anaconda3\\lib\\site-packages\\scipy\\__init__.py:155: UserWarning: A NumPy version >=1.18.5 and <1.25.0 is required for this version of SciPy (detected version 1.26.2\n",
      "  warnings.warn(f\"A NumPy version >={np_minversion} and <{np_maxversion}\"\n"
     ]
    }
   ],
   "source": [
    "import pandas as pd\n",
    "import numpy as np\n",
    "import matplotlib as mp\n",
    "import matplotlib.pyplot as plt\n",
    "import plotly.express as px"
   ]
  },
  {
   "cell_type": "code",
   "execution_count": 2,
   "id": "34f0eb91",
   "metadata": {},
   "outputs": [],
   "source": [
    "def load_and_preview_dataset(name, data_folder, filename, sep=','): \n",
    "    df = pd.read_csv(f'{data_folder}/{filename}', sep=sep)\n",
    "    print(f'Columns and data types of \"{name}\" dataset')\n",
    "    display(df.dtypes)\n",
    "    print(f'Number of rows of \"{name}\" dataset', len(df))\n",
    "    print(f'Head of {name} dataset')\n",
    "    display(df.head())\n",
    "    print(\"\\nMissing values in orders:\\n\", df.isnull().sum())\n",
    "    missing_percentage = (df.isnull().sum() / len(df)) * 100\n",
    "    print(\"\\nPercentage of missing values in each column:\\n\", missing_percentage)\n",
    "    return df"
   ]
  },
  {
   "cell_type": "markdown",
   "id": "e112077d",
   "metadata": {},
   "source": [
    "## Orders"
   ]
  },
  {
   "cell_type": "code",
   "execution_count": 3,
   "id": "55d592c7",
   "metadata": {},
   "outputs": [
    {
     "name": "stdout",
     "output_type": "stream",
     "text": [
      "Columns and data types of \"orders\" dataset\n"
     ]
    },
    {
     "data": {
      "text/plain": [
       "tour_number            int64\n",
       "customer_location      int64\n",
       "order_number          object\n",
       "service_date          object\n",
       "quantity             float64\n",
       "unit                  object\n",
       "equipment_number     float64\n",
       "material_category     object\n",
       "article               object\n",
       "equipment_name        object\n",
       "dtype: object"
      ]
     },
     "metadata": {},
     "output_type": "display_data"
    },
    {
     "name": "stdout",
     "output_type": "stream",
     "text": [
      "Number of rows of \"orders\" dataset 13242295\n",
      "Head of orders dataset\n"
     ]
    },
    {
     "data": {
      "text/html": [
       "<div>\n",
       "<style scoped>\n",
       "    .dataframe tbody tr th:only-of-type {\n",
       "        vertical-align: middle;\n",
       "    }\n",
       "\n",
       "    .dataframe tbody tr th {\n",
       "        vertical-align: top;\n",
       "    }\n",
       "\n",
       "    .dataframe thead th {\n",
       "        text-align: right;\n",
       "    }\n",
       "</style>\n",
       "<table border=\"1\" class=\"dataframe\">\n",
       "  <thead>\n",
       "    <tr style=\"text-align: right;\">\n",
       "      <th></th>\n",
       "      <th>tour_number</th>\n",
       "      <th>customer_location</th>\n",
       "      <th>order_number</th>\n",
       "      <th>service_date</th>\n",
       "      <th>quantity</th>\n",
       "      <th>unit</th>\n",
       "      <th>equipment_number</th>\n",
       "      <th>material_category</th>\n",
       "      <th>article</th>\n",
       "      <th>equipment_name</th>\n",
       "    </tr>\n",
       "  </thead>\n",
       "  <tbody>\n",
       "    <tr>\n",
       "      <th>0</th>\n",
       "      <td>32437</td>\n",
       "      <td>56418</td>\n",
       "      <td>A221790082</td>\n",
       "      <td>19.05.2022</td>\n",
       "      <td>1.0</td>\n",
       "      <td>Stück</td>\n",
       "      <td>20440.0</td>\n",
       "      <td>M760300</td>\n",
       "      <td>Kunststoffe</td>\n",
       "      <td>30m³ CT offen</td>\n",
       "    </tr>\n",
       "    <tr>\n",
       "      <th>1</th>\n",
       "      <td>32437</td>\n",
       "      <td>56418</td>\n",
       "      <td>A221790083</td>\n",
       "      <td>19.05.2022</td>\n",
       "      <td>1.0</td>\n",
       "      <td>Stück</td>\n",
       "      <td>20440.0</td>\n",
       "      <td>M760300</td>\n",
       "      <td>Kunststoffe</td>\n",
       "      <td>30m³ CT offen</td>\n",
       "    </tr>\n",
       "    <tr>\n",
       "      <th>2</th>\n",
       "      <td>82408</td>\n",
       "      <td>56418</td>\n",
       "      <td>A231849217</td>\n",
       "      <td>23.05.2023</td>\n",
       "      <td>1.0</td>\n",
       "      <td>Stück</td>\n",
       "      <td>20440.0</td>\n",
       "      <td>M760300</td>\n",
       "      <td>Kunststoffe</td>\n",
       "      <td>30m³ CT offen</td>\n",
       "    </tr>\n",
       "    <tr>\n",
       "      <th>3</th>\n",
       "      <td>46532</td>\n",
       "      <td>56418</td>\n",
       "      <td>A213241021</td>\n",
       "      <td>21.09.2021</td>\n",
       "      <td>1.0</td>\n",
       "      <td>Stück</td>\n",
       "      <td>20440.0</td>\n",
       "      <td>M760300</td>\n",
       "      <td>Kunststoffe</td>\n",
       "      <td>30m³ CT offen</td>\n",
       "    </tr>\n",
       "    <tr>\n",
       "      <th>4</th>\n",
       "      <td>25173</td>\n",
       "      <td>56418</td>\n",
       "      <td>A220934859</td>\n",
       "      <td>15.03.2022</td>\n",
       "      <td>1.0</td>\n",
       "      <td>Stück</td>\n",
       "      <td>20440.0</td>\n",
       "      <td>M760300</td>\n",
       "      <td>Kunststoffe</td>\n",
       "      <td>30m³ CT offen</td>\n",
       "    </tr>\n",
       "  </tbody>\n",
       "</table>\n",
       "</div>"
      ],
      "text/plain": [
       "   tour_number  customer_location order_number service_date  quantity   unit  \\\n",
       "0        32437              56418   A221790082   19.05.2022       1.0  Stück   \n",
       "1        32437              56418   A221790083   19.05.2022       1.0  Stück   \n",
       "2        82408              56418   A231849217   23.05.2023       1.0  Stück   \n",
       "3        46532              56418   A213241021   21.09.2021       1.0  Stück   \n",
       "4        25173              56418   A220934859   15.03.2022       1.0  Stück   \n",
       "\n",
       "   equipment_number material_category      article equipment_name  \n",
       "0           20440.0           M760300  Kunststoffe  30m³ CT offen  \n",
       "1           20440.0           M760300  Kunststoffe  30m³ CT offen  \n",
       "2           20440.0           M760300  Kunststoffe  30m³ CT offen  \n",
       "3           20440.0           M760300  Kunststoffe  30m³ CT offen  \n",
       "4           20440.0           M760300  Kunststoffe  30m³ CT offen  "
      ]
     },
     "metadata": {},
     "output_type": "display_data"
    },
    {
     "name": "stdout",
     "output_type": "stream",
     "text": [
      "\n",
      "Missing values in orders:\n",
      " tour_number                 0\n",
      "customer_location           0\n",
      "order_number                0\n",
      "service_date                0\n",
      "quantity             13041664\n",
      "unit                       41\n",
      "equipment_number         5647\n",
      "material_category        5059\n",
      "article                  5059\n",
      "equipment_name           5647\n",
      "dtype: int64\n",
      "\n",
      "Percentage of missing values in each column:\n",
      " tour_number           0.000000\n",
      "customer_location     0.000000\n",
      "order_number          0.000000\n",
      "service_date          0.000000\n",
      "quantity             98.484923\n",
      "unit                  0.000310\n",
      "equipment_number      0.042644\n",
      "material_category     0.038203\n",
      "article               0.038203\n",
      "equipment_name        0.042644\n",
      "dtype: float64\n"
     ]
    }
   ],
   "source": [
    "data_folder = r\"C:\\Users\\s_sad\\Downloads\\eng_berlin\"\n",
    "orders = load_and_preview_dataset('orders', data_folder, 'orders.csv', sep=',')"
   ]
  },
  {
   "cell_type": "markdown",
   "id": "b30e635d",
   "metadata": {},
   "source": [
    "Besides the columns that we agreed to keep, I have also deleted quantity because nearly 99% values of quantity are missing."
   ]
  },
  {
   "cell_type": "code",
   "execution_count": 4,
   "id": "4af1c03d",
   "metadata": {},
   "outputs": [
    {
     "data": {
      "text/html": [
       "<div>\n",
       "<style scoped>\n",
       "    .dataframe tbody tr th:only-of-type {\n",
       "        vertical-align: middle;\n",
       "    }\n",
       "\n",
       "    .dataframe tbody tr th {\n",
       "        vertical-align: top;\n",
       "    }\n",
       "\n",
       "    .dataframe thead th {\n",
       "        text-align: right;\n",
       "    }\n",
       "</style>\n",
       "<table border=\"1\" class=\"dataframe\">\n",
       "  <thead>\n",
       "    <tr style=\"text-align: right;\">\n",
       "      <th></th>\n",
       "      <th>customer_location</th>\n",
       "      <th>tour_number</th>\n",
       "      <th>equipment_number</th>\n",
       "      <th>equipment_name</th>\n",
       "      <th>unit</th>\n",
       "      <th>article</th>\n",
       "    </tr>\n",
       "  </thead>\n",
       "  <tbody>\n",
       "    <tr>\n",
       "      <th>0</th>\n",
       "      <td>56418</td>\n",
       "      <td>32437</td>\n",
       "      <td>20440.0</td>\n",
       "      <td>30m³ CT offen</td>\n",
       "      <td>Stück</td>\n",
       "      <td>Kunststoffe</td>\n",
       "    </tr>\n",
       "    <tr>\n",
       "      <th>1</th>\n",
       "      <td>56418</td>\n",
       "      <td>32437</td>\n",
       "      <td>20440.0</td>\n",
       "      <td>30m³ CT offen</td>\n",
       "      <td>Stück</td>\n",
       "      <td>Kunststoffe</td>\n",
       "    </tr>\n",
       "    <tr>\n",
       "      <th>2</th>\n",
       "      <td>56418</td>\n",
       "      <td>82408</td>\n",
       "      <td>20440.0</td>\n",
       "      <td>30m³ CT offen</td>\n",
       "      <td>Stück</td>\n",
       "      <td>Kunststoffe</td>\n",
       "    </tr>\n",
       "    <tr>\n",
       "      <th>3</th>\n",
       "      <td>56418</td>\n",
       "      <td>46532</td>\n",
       "      <td>20440.0</td>\n",
       "      <td>30m³ CT offen</td>\n",
       "      <td>Stück</td>\n",
       "      <td>Kunststoffe</td>\n",
       "    </tr>\n",
       "    <tr>\n",
       "      <th>4</th>\n",
       "      <td>56418</td>\n",
       "      <td>25173</td>\n",
       "      <td>20440.0</td>\n",
       "      <td>30m³ CT offen</td>\n",
       "      <td>Stück</td>\n",
       "      <td>Kunststoffe</td>\n",
       "    </tr>\n",
       "  </tbody>\n",
       "</table>\n",
       "</div>"
      ],
      "text/plain": [
       "   customer_location  tour_number  equipment_number equipment_name   unit  \\\n",
       "0              56418        32437           20440.0  30m³ CT offen  Stück   \n",
       "1              56418        32437           20440.0  30m³ CT offen  Stück   \n",
       "2              56418        82408           20440.0  30m³ CT offen  Stück   \n",
       "3              56418        46532           20440.0  30m³ CT offen  Stück   \n",
       "4              56418        25173           20440.0  30m³ CT offen  Stück   \n",
       "\n",
       "       article  \n",
       "0  Kunststoffe  \n",
       "1  Kunststoffe  \n",
       "2  Kunststoffe  \n",
       "3  Kunststoffe  \n",
       "4  Kunststoffe  "
      ]
     },
     "execution_count": 4,
     "metadata": {},
     "output_type": "execute_result"
    }
   ],
   "source": [
    " columns_to_keep = [\n",
    "    'customer_location', \n",
    "    'tour_number', \n",
    "    'equipment_number', \n",
    "    'equipment_name', \n",
    "    'unit', \n",
    "    'article'\n",
    "]\n",
    "\n",
    "# Keep only the specified columns\n",
    "orders_filtered = orders[columns_to_keep]\n",
    "\n",
    "# If you want to save the filtered DataFrame to a new CSV file\n",
    "#df_filtered.to_csv('filtered_orders.csv', index=False)\n",
    "\n",
    "# Display the first few rows of the filtered DataFrame\n",
    "orders_filtered.head()"
   ]
  },
  {
   "cell_type": "code",
   "execution_count": 5,
   "id": "613211f9",
   "metadata": {},
   "outputs": [
    {
     "name": "stdout",
     "output_type": "stream",
     "text": [
      "['Stück' 'to' 'STD' nan 'Pauschal' 'm³' 'Stunde(n)' 'Stunden']\n"
     ]
    }
   ],
   "source": [
    "print(orders_filtered['unit'].unique())\n"
   ]
  },
  {
   "cell_type": "code",
   "execution_count": 6,
   "id": "b17ab3f6",
   "metadata": {},
   "outputs": [
    {
     "data": {
      "text/plain": [
       "Stück        13240713\n",
       "m³               1063\n",
       "STD               322\n",
       "Stunde(n)         122\n",
       "to                 26\n",
       "Pauschal            7\n",
       "Stunden             1\n",
       "Name: unit, dtype: int64"
      ]
     },
     "execution_count": 6,
     "metadata": {},
     "output_type": "execute_result"
    }
   ],
   "source": [
    "count_per_unit = orders_filtered['unit'].value_counts()\n",
    "count_per_unit"
   ]
  },
  {
   "cell_type": "code",
   "execution_count": 7,
   "id": "39842843",
   "metadata": {},
   "outputs": [
    {
     "name": "stdout",
     "output_type": "stream",
     "text": [
      "Stück        99.988363\n",
      "m³            0.008027\n",
      "STD           0.002432\n",
      "Stunde(n)     0.000921\n",
      "to            0.000196\n",
      "Pauschal      0.000053\n",
      "Stunden       0.000008\n",
      "Name: unit, dtype: float64\n"
     ]
    }
   ],
   "source": [
    "percentage_per_unit = orders_filtered['unit'].value_counts(normalize=True) * 100\n",
    "print(percentage_per_unit)"
   ]
  },
  {
   "cell_type": "markdown",
   "id": "5d69e9a9",
   "metadata": {},
   "source": [
    "Given that almost all of them are in \"Stück\"(pieces), let's remove all rows with other unit types"
   ]
  },
  {
   "cell_type": "code",
   "execution_count": 8,
   "id": "e62a4b8b",
   "metadata": {},
   "outputs": [],
   "source": [
    "orders_filtered = orders_filtered[orders_filtered['unit'] == 'Stück']"
   ]
  },
  {
   "cell_type": "code",
   "execution_count": 9,
   "id": "e1e4f6a8",
   "metadata": {},
   "outputs": [
    {
     "data": {
      "text/plain": [
       "Stück    13240713\n",
       "Name: unit, dtype: int64"
      ]
     },
     "execution_count": 9,
     "metadata": {},
     "output_type": "execute_result"
    }
   ],
   "source": [
    "count_per_unit = orders_filtered['unit'].value_counts()\n",
    "count_per_unit"
   ]
  },
  {
   "cell_type": "code",
   "execution_count": 10,
   "id": "6ed1781e",
   "metadata": {},
   "outputs": [
    {
     "name": "stdout",
     "output_type": "stream",
     "text": [
      "customer_location       int32\n",
      "tour_number             int32\n",
      "equipment_number      float32\n",
      "equipment_name       category\n",
      "unit                 category\n",
      "article              category\n",
      "dtype: object\n"
     ]
    }
   ],
   "source": [
    "data_types = {\n",
    "    'customer_location': 'int32',\n",
    "    'tour_number': 'int32',\n",
    "    'equipment_number': 'float32',\n",
    "    'equipment_name': 'category',\n",
    "    'unit': 'category',\n",
    "    'article': 'category'\n",
    "}\n",
    "\n",
    "orders_filtered = orders_filtered.astype(data_types, errors='ignore')\n",
    "\n",
    "print(orders_filtered.dtypes)\n"
   ]
  },
  {
   "cell_type": "code",
   "execution_count": 11,
   "id": "8638c8f3",
   "metadata": {},
   "outputs": [
    {
     "data": {
      "text/html": [
       "<div>\n",
       "<style scoped>\n",
       "    .dataframe tbody tr th:only-of-type {\n",
       "        vertical-align: middle;\n",
       "    }\n",
       "\n",
       "    .dataframe tbody tr th {\n",
       "        vertical-align: top;\n",
       "    }\n",
       "\n",
       "    .dataframe thead th {\n",
       "        text-align: right;\n",
       "    }\n",
       "</style>\n",
       "<table border=\"1\" class=\"dataframe\">\n",
       "  <thead>\n",
       "    <tr style=\"text-align: right;\">\n",
       "      <th></th>\n",
       "      <th>customer_location</th>\n",
       "      <th>tour_number</th>\n",
       "      <th>equipment_number</th>\n",
       "      <th>equipment_name</th>\n",
       "      <th>unit</th>\n",
       "      <th>article</th>\n",
       "    </tr>\n",
       "  </thead>\n",
       "  <tbody>\n",
       "    <tr>\n",
       "      <th>0</th>\n",
       "      <td>56418</td>\n",
       "      <td>32437</td>\n",
       "      <td>20440.0</td>\n",
       "      <td>30m³ CT offen</td>\n",
       "      <td>Stück</td>\n",
       "      <td>Kunststoffe</td>\n",
       "    </tr>\n",
       "    <tr>\n",
       "      <th>1</th>\n",
       "      <td>56418</td>\n",
       "      <td>32437</td>\n",
       "      <td>20440.0</td>\n",
       "      <td>30m³ CT offen</td>\n",
       "      <td>Stück</td>\n",
       "      <td>Kunststoffe</td>\n",
       "    </tr>\n",
       "    <tr>\n",
       "      <th>2</th>\n",
       "      <td>56418</td>\n",
       "      <td>82408</td>\n",
       "      <td>20440.0</td>\n",
       "      <td>30m³ CT offen</td>\n",
       "      <td>Stück</td>\n",
       "      <td>Kunststoffe</td>\n",
       "    </tr>\n",
       "    <tr>\n",
       "      <th>3</th>\n",
       "      <td>56418</td>\n",
       "      <td>46532</td>\n",
       "      <td>20440.0</td>\n",
       "      <td>30m³ CT offen</td>\n",
       "      <td>Stück</td>\n",
       "      <td>Kunststoffe</td>\n",
       "    </tr>\n",
       "    <tr>\n",
       "      <th>4</th>\n",
       "      <td>56418</td>\n",
       "      <td>25173</td>\n",
       "      <td>20440.0</td>\n",
       "      <td>30m³ CT offen</td>\n",
       "      <td>Stück</td>\n",
       "      <td>Kunststoffe</td>\n",
       "    </tr>\n",
       "  </tbody>\n",
       "</table>\n",
       "</div>"
      ],
      "text/plain": [
       "   customer_location  tour_number  equipment_number equipment_name   unit  \\\n",
       "0              56418        32437           20440.0  30m³ CT offen  Stück   \n",
       "1              56418        32437           20440.0  30m³ CT offen  Stück   \n",
       "2              56418        82408           20440.0  30m³ CT offen  Stück   \n",
       "3              56418        46532           20440.0  30m³ CT offen  Stück   \n",
       "4              56418        25173           20440.0  30m³ CT offen  Stück   \n",
       "\n",
       "       article  \n",
       "0  Kunststoffe  \n",
       "1  Kunststoffe  \n",
       "2  Kunststoffe  \n",
       "3  Kunststoffe  \n",
       "4  Kunststoffe  "
      ]
     },
     "execution_count": 11,
     "metadata": {},
     "output_type": "execute_result"
    }
   ],
   "source": [
    "orders_filtered.head()"
   ]
  },
  {
   "cell_type": "code",
   "execution_count": 12,
   "id": "e8897e5f",
   "metadata": {},
   "outputs": [],
   "source": [
    "orders_filtered.to_csv('~/Downloads/colab/orders_filtered.csv', index=False)"
   ]
  },
  {
   "cell_type": "markdown",
   "id": "5ad18e3c",
   "metadata": {},
   "source": [
    "## Resources"
   ]
  },
  {
   "cell_type": "code",
   "execution_count": 13,
   "id": "e6790214",
   "metadata": {},
   "outputs": [
    {
     "name": "stdout",
     "output_type": "stream",
     "text": [
      "Columns and data types of \"resources\" dataset\n"
     ]
    },
    {
     "data": {
      "text/plain": [
       "tour_number              int64\n",
       "employee_number          int64\n",
       "temporary_worker_flag    int64\n",
       "primary_driver           int64\n",
       "dtype: object"
      ]
     },
     "metadata": {},
     "output_type": "display_data"
    },
    {
     "name": "stdout",
     "output_type": "stream",
     "text": [
      "Number of rows of \"resources\" dataset 344277\n",
      "Head of resources dataset\n"
     ]
    },
    {
     "data": {
      "text/html": [
       "<div>\n",
       "<style scoped>\n",
       "    .dataframe tbody tr th:only-of-type {\n",
       "        vertical-align: middle;\n",
       "    }\n",
       "\n",
       "    .dataframe tbody tr th {\n",
       "        vertical-align: top;\n",
       "    }\n",
       "\n",
       "    .dataframe thead th {\n",
       "        text-align: right;\n",
       "    }\n",
       "</style>\n",
       "<table border=\"1\" class=\"dataframe\">\n",
       "  <thead>\n",
       "    <tr style=\"text-align: right;\">\n",
       "      <th></th>\n",
       "      <th>tour_number</th>\n",
       "      <th>employee_number</th>\n",
       "      <th>temporary_worker_flag</th>\n",
       "      <th>primary_driver</th>\n",
       "    </tr>\n",
       "  </thead>\n",
       "  <tbody>\n",
       "    <tr>\n",
       "      <th>0</th>\n",
       "      <td>95350</td>\n",
       "      <td>1</td>\n",
       "      <td>0</td>\n",
       "      <td>1</td>\n",
       "    </tr>\n",
       "    <tr>\n",
       "      <th>1</th>\n",
       "      <td>95350</td>\n",
       "      <td>2</td>\n",
       "      <td>0</td>\n",
       "      <td>0</td>\n",
       "    </tr>\n",
       "    <tr>\n",
       "      <th>2</th>\n",
       "      <td>95351</td>\n",
       "      <td>3</td>\n",
       "      <td>1</td>\n",
       "      <td>0</td>\n",
       "    </tr>\n",
       "    <tr>\n",
       "      <th>3</th>\n",
       "      <td>95351</td>\n",
       "      <td>4</td>\n",
       "      <td>0</td>\n",
       "      <td>1</td>\n",
       "    </tr>\n",
       "    <tr>\n",
       "      <th>4</th>\n",
       "      <td>95351</td>\n",
       "      <td>5</td>\n",
       "      <td>0</td>\n",
       "      <td>0</td>\n",
       "    </tr>\n",
       "  </tbody>\n",
       "</table>\n",
       "</div>"
      ],
      "text/plain": [
       "   tour_number  employee_number  temporary_worker_flag  primary_driver\n",
       "0        95350                1                      0               1\n",
       "1        95350                2                      0               0\n",
       "2        95351                3                      1               0\n",
       "3        95351                4                      0               1\n",
       "4        95351                5                      0               0"
      ]
     },
     "metadata": {},
     "output_type": "display_data"
    },
    {
     "name": "stdout",
     "output_type": "stream",
     "text": [
      "\n",
      "Missing values in orders:\n",
      " tour_number              0\n",
      "employee_number          0\n",
      "temporary_worker_flag    0\n",
      "primary_driver           0\n",
      "dtype: int64\n",
      "\n",
      "Percentage of missing values in each column:\n",
      " tour_number              0.0\n",
      "employee_number          0.0\n",
      "temporary_worker_flag    0.0\n",
      "primary_driver           0.0\n",
      "dtype: float64\n"
     ]
    }
   ],
   "source": [
    "resources = load_and_preview_dataset('resources', data_folder, 'resources.csv', sep=',')"
   ]
  },
  {
   "cell_type": "code",
   "execution_count": 14,
   "id": "eb9ba6ad",
   "metadata": {},
   "outputs": [
    {
     "name": "stdout",
     "output_type": "stream",
     "text": [
      "tour_number              int32\n",
      "employee_number          int32\n",
      "temporary_worker_flag    int32\n",
      "primary_driver           int32\n",
      "dtype: object\n"
     ]
    }
   ],
   "source": [
    "data_types = {\n",
    "    'tour_number': 'int32',\n",
    "    'employee_number': 'int32',\n",
    "    'temporary_worker_flag': 'int32',\n",
    "    'primary_driver': 'int32'\n",
    "    \n",
    "}\n",
    "\n",
    "resources = resources.astype(data_types, errors='ignore')\n",
    "\n",
    "print(resources.dtypes)\n"
   ]
  },
  {
   "cell_type": "code",
   "execution_count": 15,
   "id": "e2d49532",
   "metadata": {},
   "outputs": [
    {
     "data": {
      "image/png": "[encoded data removed]",
      "text/plain": [
       "<Figure size 800x800 with 1 Axes>"
      ]
     },
     "metadata": {},
     "output_type": "display_data"
    },
    {
     "data": {
      "image/png": "[encoded data removed]",
      "text/plain": [
       "<Figure size 800x800 with 1 Axes>"
      ]
     },
     "metadata": {},
     "output_type": "display_data"
    }
   ],
   "source": [
    "# Count the occurrences of each 'temporary_worker_flag' value\n",
    "temporary_worker_counts = resources['temporary_worker_flag'].value_counts()\n",
    "\n",
    "# Plot the pie chart\n",
    "plt.figure(figsize=(8, 8))\n",
    "plt.pie(temporary_worker_counts, labels=temporary_worker_counts.index, autopct='%1.1f%%', startangle=140)\n",
    "plt.title('Distribution of Temporary Worker Flag')\n",
    "plt.axis('equal')  # Equal aspect ratio ensures that pie is drawn as a circle\n",
    "plt.show(())"
   ]
  },
  {
   "cell_type": "code",
   "execution_count": 16,
   "id": "0f998fb3",
   "metadata": {},
   "outputs": [],
   "source": [
    "resources.to_csv('~/Downloads/colab/resources.csv', index=False)"
   ]
  },
  {
   "cell_type": "markdown",
   "id": "e7d744b6",
   "metadata": {},
   "source": [
    "## Absences"
   ]
  },
  {
   "cell_type": "code",
   "execution_count": 17,
   "id": "8a1d326f",
   "metadata": {},
   "outputs": [
    {
     "name": "stdout",
     "output_type": "stream",
     "text": [
      "Columns and data types of \"absences\" dataset\n"
     ]
    },
    {
     "data": {
      "text/plain": [
       "employee_number         int64\n",
       "time_account_number    object\n",
       "start_date             object\n",
       "end_date               object\n",
       "duration                int64\n",
       "start_month             int64\n",
       "season                 object\n",
       "dtype: object"
      ]
     },
     "metadata": {},
     "output_type": "display_data"
    },
    {
     "name": "stdout",
     "output_type": "stream",
     "text": [
      "Number of rows of \"absences\" dataset 10352\n",
      "Head of absences dataset\n"
     ]
    },
    {
     "data": {
      "text/html": [
       "<div>\n",
       "<style scoped>\n",
       "    .dataframe tbody tr th:only-of-type {\n",
       "        vertical-align: middle;\n",
       "    }\n",
       "\n",
       "    .dataframe tbody tr th {\n",
       "        vertical-align: top;\n",
       "    }\n",
       "\n",
       "    .dataframe thead th {\n",
       "        text-align: right;\n",
       "    }\n",
       "</style>\n",
       "<table border=\"1\" class=\"dataframe\">\n",
       "  <thead>\n",
       "    <tr style=\"text-align: right;\">\n",
       "      <th></th>\n",
       "      <th>employee_number</th>\n",
       "      <th>time_account_number</th>\n",
       "      <th>start_date</th>\n",
       "      <th>end_date</th>\n",
       "      <th>duration</th>\n",
       "      <th>start_month</th>\n",
       "      <th>season</th>\n",
       "    </tr>\n",
       "  </thead>\n",
       "  <tbody>\n",
       "    <tr>\n",
       "      <th>0</th>\n",
       "      <td>1307</td>\n",
       "      <td>Urlaub bezahlt</td>\n",
       "      <td>2021-02-09</td>\n",
       "      <td>2021-02-09</td>\n",
       "      <td>1</td>\n",
       "      <td>2</td>\n",
       "      <td>Winter</td>\n",
       "    </tr>\n",
       "    <tr>\n",
       "      <th>1</th>\n",
       "      <td>1307</td>\n",
       "      <td>Urlaub bezahlt</td>\n",
       "      <td>2021-03-24</td>\n",
       "      <td>2021-03-28</td>\n",
       "      <td>5</td>\n",
       "      <td>3</td>\n",
       "      <td>Spring</td>\n",
       "    </tr>\n",
       "    <tr>\n",
       "      <th>2</th>\n",
       "      <td>1307</td>\n",
       "      <td>Urlaub bezahlt</td>\n",
       "      <td>2021-05-05</td>\n",
       "      <td>2021-05-09</td>\n",
       "      <td>5</td>\n",
       "      <td>5</td>\n",
       "      <td>Spring</td>\n",
       "    </tr>\n",
       "    <tr>\n",
       "      <th>3</th>\n",
       "      <td>1307</td>\n",
       "      <td>Urlaub bezahlt</td>\n",
       "      <td>2021-06-14</td>\n",
       "      <td>2021-06-17</td>\n",
       "      <td>4</td>\n",
       "      <td>6</td>\n",
       "      <td>Summer</td>\n",
       "    </tr>\n",
       "    <tr>\n",
       "      <th>4</th>\n",
       "      <td>1307</td>\n",
       "      <td>Urlaub bezahlt</td>\n",
       "      <td>2021-07-25</td>\n",
       "      <td>2021-07-28</td>\n",
       "      <td>4</td>\n",
       "      <td>7</td>\n",
       "      <td>Summer</td>\n",
       "    </tr>\n",
       "  </tbody>\n",
       "</table>\n",
       "</div>"
      ],
      "text/plain": [
       "   employee_number time_account_number  start_date    end_date  duration  \\\n",
       "0             1307      Urlaub bezahlt  2021-02-09  2021-02-09         1   \n",
       "1             1307      Urlaub bezahlt  2021-03-24  2021-03-28         5   \n",
       "2             1307      Urlaub bezahlt  2021-05-05  2021-05-09         5   \n",
       "3             1307      Urlaub bezahlt  2021-06-14  2021-06-17         4   \n",
       "4             1307      Urlaub bezahlt  2021-07-25  2021-07-28         4   \n",
       "\n",
       "   start_month  season  \n",
       "0            2  Winter  \n",
       "1            3  Spring  \n",
       "2            5  Spring  \n",
       "3            6  Summer  \n",
       "4            7  Summer  "
      ]
     },
     "metadata": {},
     "output_type": "display_data"
    },
    {
     "name": "stdout",
     "output_type": "stream",
     "text": [
      "\n",
      "Missing values in orders:\n",
      " employee_number        0\n",
      "time_account_number    0\n",
      "start_date             0\n",
      "end_date               0\n",
      "duration               0\n",
      "start_month            0\n",
      "season                 0\n",
      "dtype: int64\n",
      "\n",
      "Percentage of missing values in each column:\n",
      " employee_number        0.0\n",
      "time_account_number    0.0\n",
      "start_date             0.0\n",
      "end_date               0.0\n",
      "duration               0.0\n",
      "start_month            0.0\n",
      "season                 0.0\n",
      "dtype: float64\n"
     ]
    }
   ],
   "source": [
    "absences = load_and_preview_dataset('absences', data_folder, 'absence_events.csv', sep=',')"
   ]
  },
  {
   "cell_type": "code",
   "execution_count": 18,
   "id": "42898726",
   "metadata": {},
   "outputs": [
    {
     "name": "stdout",
     "output_type": "stream",
     "text": [
      "employee_number         int32\n",
      "time_account_number    object\n",
      "start_date             object\n",
      "end_date               object\n",
      "duration                int32\n",
      "start_month             int32\n",
      "season                 object\n",
      "dtype: object\n"
     ]
    }
   ],
   "source": [
    "data_types = {\n",
    "    'employee_number': 'int32',\n",
    "    'time_account_number':'object',\n",
    "    'start_date':'object',\n",
    "    'end_date':'object',               \n",
    "    'duration':'int32',              \n",
    "    'start_month' : 'int32',\n",
    "    'season':'object' \n",
    "}\n",
    "absences = absences.astype(data_types, errors='ignore')\n",
    "\n",
    "print(absences.dtypes)\n"
   ]
  },
  {
   "cell_type": "code",
   "execution_count": 19,
   "id": "a4f2b604",
   "metadata": {},
   "outputs": [],
   "source": [
    "absences.to_csv('~/Downloads/colab/absences.csv', index=False)"
   ]
  },
  {
   "cell_type": "markdown",
   "id": "3b0e1cdb",
   "metadata": {},
   "source": [
    "## Tours"
   ]
  },
  {
   "cell_type": "code",
   "execution_count": 20,
   "id": "ecfddac6",
   "metadata": {},
   "outputs": [
    {
     "name": "stdout",
     "output_type": "stream",
     "text": [
      "Columns and data types of \"tours\" dataset\n"
     ]
    },
    {
     "data": {
      "text/plain": [
       "tour_number               int64\n",
       "service_date             object\n",
       "operational_site         object\n",
       "reference_tour_number     int64\n",
       "reference_tour_code      object\n",
       "dtype: object"
      ]
     },
     "metadata": {},
     "output_type": "display_data"
    },
    {
     "name": "stdout",
     "output_type": "stream",
     "text": [
      "Number of rows of \"tours\" dataset 138953\n",
      "Head of tours dataset\n"
     ]
    },
    {
     "data": {
      "text/html": [
       "<div>\n",
       "<style scoped>\n",
       "    .dataframe tbody tr th:only-of-type {\n",
       "        vertical-align: middle;\n",
       "    }\n",
       "\n",
       "    .dataframe tbody tr th {\n",
       "        vertical-align: top;\n",
       "    }\n",
       "\n",
       "    .dataframe thead th {\n",
       "        text-align: right;\n",
       "    }\n",
       "</style>\n",
       "<table border=\"1\" class=\"dataframe\">\n",
       "  <thead>\n",
       "    <tr style=\"text-align: right;\">\n",
       "      <th></th>\n",
       "      <th>tour_number</th>\n",
       "      <th>service_date</th>\n",
       "      <th>operational_site</th>\n",
       "      <th>reference_tour_number</th>\n",
       "      <th>reference_tour_code</th>\n",
       "    </tr>\n",
       "  </thead>\n",
       "  <tbody>\n",
       "    <tr>\n",
       "      <th>0</th>\n",
       "      <td>12964</td>\n",
       "      <td>10.11.2023</td>\n",
       "      <td>MONU</td>\n",
       "      <td>1</td>\n",
       "      <td>TP00335</td>\n",
       "    </tr>\n",
       "    <tr>\n",
       "      <th>1</th>\n",
       "      <td>38897</td>\n",
       "      <td>07.02.2022</td>\n",
       "      <td>MONU</td>\n",
       "      <td>1</td>\n",
       "      <td>TP00335</td>\n",
       "    </tr>\n",
       "    <tr>\n",
       "      <th>2</th>\n",
       "      <td>73190</td>\n",
       "      <td>21.10.2022</td>\n",
       "      <td>MONU</td>\n",
       "      <td>1</td>\n",
       "      <td>TP00335</td>\n",
       "    </tr>\n",
       "    <tr>\n",
       "      <th>3</th>\n",
       "      <td>54020</td>\n",
       "      <td>06.08.2021</td>\n",
       "      <td>MONU</td>\n",
       "      <td>1</td>\n",
       "      <td>TP00335</td>\n",
       "    </tr>\n",
       "    <tr>\n",
       "      <th>4</th>\n",
       "      <td>78256</td>\n",
       "      <td>27.01.2023</td>\n",
       "      <td>MONU</td>\n",
       "      <td>1</td>\n",
       "      <td>TP00335</td>\n",
       "    </tr>\n",
       "  </tbody>\n",
       "</table>\n",
       "</div>"
      ],
      "text/plain": [
       "   tour_number service_date operational_site  reference_tour_number  \\\n",
       "0        12964   10.11.2023             MONU                      1   \n",
       "1        38897   07.02.2022             MONU                      1   \n",
       "2        73190   21.10.2022             MONU                      1   \n",
       "3        54020   06.08.2021             MONU                      1   \n",
       "4        78256   27.01.2023             MONU                      1   \n",
       "\n",
       "  reference_tour_code  \n",
       "0             TP00335  \n",
       "1             TP00335  \n",
       "2             TP00335  \n",
       "3             TP00335  \n",
       "4             TP00335  "
      ]
     },
     "metadata": {},
     "output_type": "display_data"
    },
    {
     "name": "stdout",
     "output_type": "stream",
     "text": [
      "\n",
      "Missing values in orders:\n",
      " tour_number              0\n",
      "service_date             0\n",
      "operational_site         1\n",
      "reference_tour_number    0\n",
      "reference_tour_code      0\n",
      "dtype: int64\n",
      "\n",
      "Percentage of missing values in each column:\n",
      " tour_number              0.00000\n",
      "service_date             0.00000\n",
      "operational_site         0.00072\n",
      "reference_tour_number    0.00000\n",
      "reference_tour_code      0.00000\n",
      "dtype: float64\n"
     ]
    }
   ],
   "source": [
    "tours = load_and_preview_dataset('tours', data_folder, 'tours.csv', sep=',')"
   ]
  },
  {
   "cell_type": "code",
   "execution_count": 21,
   "id": "d55a2fb8",
   "metadata": {},
   "outputs": [
    {
     "data": {
      "text/html": [
       "<div>\n",
       "<style scoped>\n",
       "    .dataframe tbody tr th:only-of-type {\n",
       "        vertical-align: middle;\n",
       "    }\n",
       "\n",
       "    .dataframe tbody tr th {\n",
       "        vertical-align: top;\n",
       "    }\n",
       "\n",
       "    .dataframe thead th {\n",
       "        text-align: right;\n",
       "    }\n",
       "</style>\n",
       "<table border=\"1\" class=\"dataframe\">\n",
       "  <thead>\n",
       "    <tr style=\"text-align: right;\">\n",
       "      <th></th>\n",
       "      <th>tour_number</th>\n",
       "      <th>service_date</th>\n",
       "      <th>operational_site</th>\n",
       "    </tr>\n",
       "  </thead>\n",
       "  <tbody>\n",
       "    <tr>\n",
       "      <th>0</th>\n",
       "      <td>12964</td>\n",
       "      <td>10.11.2023</td>\n",
       "      <td>MONU</td>\n",
       "    </tr>\n",
       "    <tr>\n",
       "      <th>1</th>\n",
       "      <td>38897</td>\n",
       "      <td>07.02.2022</td>\n",
       "      <td>MONU</td>\n",
       "    </tr>\n",
       "    <tr>\n",
       "      <th>2</th>\n",
       "      <td>73190</td>\n",
       "      <td>21.10.2022</td>\n",
       "      <td>MONU</td>\n",
       "    </tr>\n",
       "    <tr>\n",
       "      <th>3</th>\n",
       "      <td>54020</td>\n",
       "      <td>06.08.2021</td>\n",
       "      <td>MONU</td>\n",
       "    </tr>\n",
       "    <tr>\n",
       "      <th>4</th>\n",
       "      <td>78256</td>\n",
       "      <td>27.01.2023</td>\n",
       "      <td>MONU</td>\n",
       "    </tr>\n",
       "  </tbody>\n",
       "</table>\n",
       "</div>"
      ],
      "text/plain": [
       "   tour_number service_date operational_site\n",
       "0        12964   10.11.2023             MONU\n",
       "1        38897   07.02.2022             MONU\n",
       "2        73190   21.10.2022             MONU\n",
       "3        54020   06.08.2021             MONU\n",
       "4        78256   27.01.2023             MONU"
      ]
     },
     "execution_count": 21,
     "metadata": {},
     "output_type": "execute_result"
    }
   ],
   "source": [
    "columns_to_keepp = [\n",
    "    'tour_number', \n",
    "    'service_date', \n",
    "    'operational_site'\n",
    "]\n",
    "\n",
    "# Keep only the specified columns\n",
    "tours_filtered = tours[columns_to_keepp]\n",
    "\n",
    "# If you want to save the filtered DataFrame to a new CSV file\n",
    "#df_filtered.to_csv('filtered_orders.csv', index=False)\n",
    "\n",
    "# Display the first few rows of the filtered DataFrame\n",
    "tours_filtered.head()"
   ]
  },
  {
   "cell_type": "code",
   "execution_count": 22,
   "id": "e1a60777",
   "metadata": {},
   "outputs": [],
   "source": [
    "tours.to_csv('~/Downloads/colab/tours.csv', index=False)"
   ]
  },
  {
   "cell_type": "markdown",
   "id": "91a23fbf",
   "metadata": {},
   "source": [
    "## Complaints(from customers)"
   ]
  },
  {
   "cell_type": "code",
   "execution_count": 23,
   "id": "74746f7a",
   "metadata": {},
   "outputs": [
    {
     "name": "stdout",
     "output_type": "stream",
     "text": [
      "Columns and data types of \"complaints\" dataset\n"
     ]
    },
    {
     "name": "stderr",
     "output_type": "stream",
     "text": [
      "C:\\Users\\s_sad\\AppData\\Local\\Temp\\ipykernel_5632\\645262772.py:2: DtypeWarning: Columns (4) have mixed types. Specify dtype option on import or set low_memory=False.\n",
      "  df = pd.read_csv(f'{data_folder}/{filename}', sep=sep)\n"
     ]
    },
    {
     "data": {
      "text/plain": [
       "tour_number               int64\n",
       "claim_number             object\n",
       "complaint_reason          int64\n",
       "complaint_ground         object\n",
       "complaint_description    object\n",
       "dtype: object"
      ]
     },
     "metadata": {},
     "output_type": "display_data"
    },
    {
     "name": "stdout",
     "output_type": "stream",
     "text": [
      "Number of rows of \"complaints\" dataset 790425\n",
      "Head of complaints dataset\n"
     ]
    },
    {
     "data": {
      "text/html": [
       "<div>\n",
       "<style scoped>\n",
       "    .dataframe tbody tr th:only-of-type {\n",
       "        vertical-align: middle;\n",
       "    }\n",
       "\n",
       "    .dataframe tbody tr th {\n",
       "        vertical-align: top;\n",
       "    }\n",
       "\n",
       "    .dataframe thead th {\n",
       "        text-align: right;\n",
       "    }\n",
       "</style>\n",
       "<table border=\"1\" class=\"dataframe\">\n",
       "  <thead>\n",
       "    <tr style=\"text-align: right;\">\n",
       "      <th></th>\n",
       "      <th>tour_number</th>\n",
       "      <th>claim_number</th>\n",
       "      <th>complaint_reason</th>\n",
       "      <th>complaint_ground</th>\n",
       "      <th>complaint_description</th>\n",
       "    </tr>\n",
       "  </thead>\n",
       "  <tbody>\n",
       "    <tr>\n",
       "      <th>0</th>\n",
       "      <td>160016</td>\n",
       "      <td>A241067066</td>\n",
       "      <td>402</td>\n",
       "      <td>BB Deckel beschädigt</td>\n",
       "      <td>großer Deckel - Hauptdeckel</td>\n",
       "    </tr>\n",
       "    <tr>\n",
       "      <th>1</th>\n",
       "      <td>122761</td>\n",
       "      <td>A240871203</td>\n",
       "      <td>501</td>\n",
       "      <td>Ü Ladestelle beräumt</td>\n",
       "      <td>Mehrmengen mitgenommen (MMM)</td>\n",
       "    </tr>\n",
       "    <tr>\n",
       "      <th>2</th>\n",
       "      <td>97644</td>\n",
       "      <td>A240929593</td>\n",
       "      <td>501</td>\n",
       "      <td>Ü Ladestelle beräumt</td>\n",
       "      <td>Mehrmengen mitgenommen (MMM)</td>\n",
       "    </tr>\n",
       "    <tr>\n",
       "      <th>3</th>\n",
       "      <td>121874</td>\n",
       "      <td>A240803399</td>\n",
       "      <td>501</td>\n",
       "      <td>Ü Ladestelle beräumt</td>\n",
       "      <td>Mehrmengen mitgenommen (MMM)</td>\n",
       "    </tr>\n",
       "    <tr>\n",
       "      <th>4</th>\n",
       "      <td>122263</td>\n",
       "      <td>A240977660</td>\n",
       "      <td>501</td>\n",
       "      <td>Ü Ladestelle beräumt</td>\n",
       "      <td>Mehrmengen mitgenommen (MMM)</td>\n",
       "    </tr>\n",
       "  </tbody>\n",
       "</table>\n",
       "</div>"
      ],
      "text/plain": [
       "   tour_number claim_number  complaint_reason      complaint_ground  \\\n",
       "0       160016   A241067066               402  BB Deckel beschädigt   \n",
       "1       122761   A240871203               501  Ü Ladestelle beräumt   \n",
       "2        97644   A240929593               501  Ü Ladestelle beräumt   \n",
       "3       121874   A240803399               501  Ü Ladestelle beräumt   \n",
       "4       122263   A240977660               501  Ü Ladestelle beräumt   \n",
       "\n",
       "          complaint_description  \n",
       "0   großer Deckel - Hauptdeckel  \n",
       "1  Mehrmengen mitgenommen (MMM)  \n",
       "2  Mehrmengen mitgenommen (MMM)  \n",
       "3  Mehrmengen mitgenommen (MMM)  \n",
       "4  Mehrmengen mitgenommen (MMM)  "
      ]
     },
     "metadata": {},
     "output_type": "display_data"
    },
    {
     "name": "stdout",
     "output_type": "stream",
     "text": [
      "\n",
      "Missing values in orders:\n",
      " tour_number                   0\n",
      "claim_number                  0\n",
      "complaint_reason              0\n",
      "complaint_ground             24\n",
      "complaint_description    557898\n",
      "dtype: int64\n",
      "\n",
      "Percentage of missing values in each column:\n",
      " tour_number               0.000000\n",
      "claim_number              0.000000\n",
      "complaint_reason          0.000000\n",
      "complaint_ground          0.003036\n",
      "complaint_description    70.582029\n",
      "dtype: float64\n"
     ]
    }
   ],
   "source": [
    "complaints = load_and_preview_dataset('complaints', data_folder, 'claims.csv', sep=',')"
   ]
  },
  {
   "cell_type": "code",
   "execution_count": 24,
   "id": "df1876f9",
   "metadata": {},
   "outputs": [],
   "source": [
    "complaints = complaints.drop(columns = ['complaint_description'])"
   ]
  },
  {
   "cell_type": "code",
   "execution_count": 25,
   "id": "13a399c4",
   "metadata": {},
   "outputs": [
    {
     "data": {
      "text/html": [
       "<div>\n",
       "<style scoped>\n",
       "    .dataframe tbody tr th:only-of-type {\n",
       "        vertical-align: middle;\n",
       "    }\n",
       "\n",
       "    .dataframe tbody tr th {\n",
       "        vertical-align: top;\n",
       "    }\n",
       "\n",
       "    .dataframe thead th {\n",
       "        text-align: right;\n",
       "    }\n",
       "</style>\n",
       "<table border=\"1\" class=\"dataframe\">\n",
       "  <thead>\n",
       "    <tr style=\"text-align: right;\">\n",
       "      <th></th>\n",
       "      <th>tour_number</th>\n",
       "      <th>claim_number</th>\n",
       "      <th>complaint_reason</th>\n",
       "      <th>complaint_ground</th>\n",
       "    </tr>\n",
       "  </thead>\n",
       "  <tbody>\n",
       "    <tr>\n",
       "      <th>0</th>\n",
       "      <td>160016</td>\n",
       "      <td>A241067066</td>\n",
       "      <td>402</td>\n",
       "      <td>BB Deckel beschädigt</td>\n",
       "    </tr>\n",
       "    <tr>\n",
       "      <th>1</th>\n",
       "      <td>122761</td>\n",
       "      <td>A240871203</td>\n",
       "      <td>501</td>\n",
       "      <td>Ü Ladestelle beräumt</td>\n",
       "    </tr>\n",
       "    <tr>\n",
       "      <th>2</th>\n",
       "      <td>97644</td>\n",
       "      <td>A240929593</td>\n",
       "      <td>501</td>\n",
       "      <td>Ü Ladestelle beräumt</td>\n",
       "    </tr>\n",
       "    <tr>\n",
       "      <th>3</th>\n",
       "      <td>121874</td>\n",
       "      <td>A240803399</td>\n",
       "      <td>501</td>\n",
       "      <td>Ü Ladestelle beräumt</td>\n",
       "    </tr>\n",
       "    <tr>\n",
       "      <th>4</th>\n",
       "      <td>122263</td>\n",
       "      <td>A240977660</td>\n",
       "      <td>501</td>\n",
       "      <td>Ü Ladestelle beräumt</td>\n",
       "    </tr>\n",
       "  </tbody>\n",
       "</table>\n",
       "</div>"
      ],
      "text/plain": [
       "   tour_number claim_number  complaint_reason      complaint_ground\n",
       "0       160016   A241067066               402  BB Deckel beschädigt\n",
       "1       122761   A240871203               501  Ü Ladestelle beräumt\n",
       "2        97644   A240929593               501  Ü Ladestelle beräumt\n",
       "3       121874   A240803399               501  Ü Ladestelle beräumt\n",
       "4       122263   A240977660               501  Ü Ladestelle beräumt"
      ]
     },
     "execution_count": 25,
     "metadata": {},
     "output_type": "execute_result"
    }
   ],
   "source": [
    "complaints.head()"
   ]
  },
  {
   "cell_type": "code",
   "execution_count": 26,
   "id": "99953c3a",
   "metadata": {},
   "outputs": [],
   "source": [
    "complaints.to_csv('~/Downloads/colab/complaints.csv', index=False)"
   ]
  },
  {
   "cell_type": "code",
   "execution_count": 22,
   "id": "e7756625",
   "metadata": {},
   "outputs": [
    {
     "data": {
      "text/plain": [
       "Index(['customer_location', 'tour_number', 'equipment_number',\n",
       "       'equipment_name', 'unit', 'article'],\n",
       "      dtype='object')"
      ]
     },
     "metadata": {},
     "output_type": "display_data"
    }
   ],
   "source": [
    "display(orders_filtered.columns)"
   ]
  },
  {
   "cell_type": "code",
   "execution_count": 23,
   "id": "72110d9e",
   "metadata": {},
   "outputs": [
    {
     "data": {
      "text/plain": [
       "Index(['tour_number', 'employee_number', 'temporary_worker_flag',\n",
       "       'primary_driver'],\n",
       "      dtype='object')"
      ]
     },
     "metadata": {},
     "output_type": "display_data"
    }
   ],
   "source": [
    "display(resources.columns)"
   ]
  },
  {
   "cell_type": "code",
   "execution_count": 24,
   "id": "273ecbb8",
   "metadata": {},
   "outputs": [
    {
     "data": {
      "text/plain": [
       "Index(['employee_number', 'time_account_number', 'start_date', 'end_date',\n",
       "       'duration', 'start_month', 'season'],\n",
       "      dtype='object')"
      ]
     },
     "metadata": {},
     "output_type": "display_data"
    }
   ],
   "source": [
    "display(absences.columns)"
   ]
  },
  {
   "cell_type": "code",
   "execution_count": 25,
   "id": "e16b598e",
   "metadata": {},
   "outputs": [
    {
     "data": {
      "text/plain": [
       "Index(['tour_number', 'service_date', 'operational_site'], dtype='object')"
      ]
     },
     "metadata": {},
     "output_type": "display_data"
    }
   ],
   "source": [
    "display(tours_filtered.columns)"
   ]
  },
  {
   "cell_type": "code",
   "execution_count": 26,
   "id": "394a19cc",
   "metadata": {},
   "outputs": [
    {
     "data": {
      "text/plain": [
       "Index(['tour_number', 'claim_number', 'complaint_reason', 'complaint_ground'], dtype='object')"
      ]
     },
     "metadata": {},
     "output_type": "display_data"
    }
   ],
   "source": [
    "display(complaints.columns)"
   ]
  },
  {
   "cell_type": "code",
   "execution_count": 38,
   "id": "b213eb76",
   "metadata": {},
   "outputs": [],
   "source": [
    "merged_df = pd.merge(orders_filtered, resources, on='tour_number', how='right')"
   ]
  },
  {
   "cell_type": "code",
   "execution_count": 39,
   "id": "17497120",
   "metadata": {},
   "outputs": [],
   "source": [
    "# Select the required columns\n",
    "required_data = merged_df[['customer_location', 'tour_number', 'equipment_number',\n",
    "       'equipment_name', 'unit', 'article', 'employee_number', 'temporary_worker_flag',\n",
    "       'primary_driver' ]]"
   ]
  },
  {
   "cell_type": "code",
   "execution_count": 43,
   "id": "106a93ca",
   "metadata": {},
   "outputs": [],
   "source": [
    "required_data.to_csv('~/Downloads/colab/required_data.csv', index=False)"
   ]
  },
  {
   "cell_type": "code",
   "execution_count": 44,
   "id": "b54ff55d",
   "metadata": {},
   "outputs": [
    {
     "ename": "MemoryError",
     "evalue": "Unable to allocate 1.70 MiB for an array with shape (1787530,) and data type bool",
     "output_type": "error",
     "traceback": [
      "\u001b[1;31m---------------------------------------------------------------------------\u001b[0m",
      "\u001b[1;31mMemoryError\u001b[0m                               Traceback (most recent call last)",
      "\u001b[1;32m~\\AppData\\Local\\Temp\\ipykernel_5632\\4043708540.py\u001b[0m in \u001b[0;36m<module>\u001b[1;34m\u001b[0m\n\u001b[0;32m     10\u001b[0m \u001b[1;33m\u001b[0m\u001b[0m\n\u001b[0;32m     11\u001b[0m \u001b[1;31m# Merge each chunk with the absences dataframe and store the results\u001b[0m\u001b[1;33m\u001b[0m\u001b[1;33m\u001b[0m\u001b[0m\n\u001b[1;32m---> 12\u001b[1;33m \u001b[0mresult\u001b[0m \u001b[1;33m=\u001b[0m \u001b[0mpd\u001b[0m\u001b[1;33m.\u001b[0m\u001b[0mconcat\u001b[0m\u001b[1;33m(\u001b[0m\u001b[1;33m[\u001b[0m\u001b[0mprocess_chunk\u001b[0m\u001b[1;33m(\u001b[0m\u001b[0mchunk\u001b[0m\u001b[1;33m,\u001b[0m \u001b[0mabsences\u001b[0m\u001b[1;33m)\u001b[0m \u001b[1;32mfor\u001b[0m \u001b[0mchunk\u001b[0m \u001b[1;32min\u001b[0m \u001b[0mchunks\u001b[0m\u001b[1;33m]\u001b[0m\u001b[1;33m)\u001b[0m\u001b[1;33m\u001b[0m\u001b[1;33m\u001b[0m\u001b[0m\n\u001b[0m\u001b[0;32m     13\u001b[0m \u001b[1;33m\u001b[0m\u001b[0m\n\u001b[0;32m     14\u001b[0m \u001b[0mprint\u001b[0m\u001b[1;33m(\u001b[0m\u001b[0mresult\u001b[0m\u001b[1;33m)\u001b[0m\u001b[1;33m\u001b[0m\u001b[1;33m\u001b[0m\u001b[0m\n",
      "\u001b[1;32m~\\AppData\\Local\\Temp\\ipykernel_5632\\4043708540.py\u001b[0m in \u001b[0;36m<listcomp>\u001b[1;34m(.0)\u001b[0m\n\u001b[0;32m     10\u001b[0m \u001b[1;33m\u001b[0m\u001b[0m\n\u001b[0;32m     11\u001b[0m \u001b[1;31m# Merge each chunk with the absences dataframe and store the results\u001b[0m\u001b[1;33m\u001b[0m\u001b[1;33m\u001b[0m\u001b[0m\n\u001b[1;32m---> 12\u001b[1;33m \u001b[0mresult\u001b[0m \u001b[1;33m=\u001b[0m \u001b[0mpd\u001b[0m\u001b[1;33m.\u001b[0m\u001b[0mconcat\u001b[0m\u001b[1;33m(\u001b[0m\u001b[1;33m[\u001b[0m\u001b[0mprocess_chunk\u001b[0m\u001b[1;33m(\u001b[0m\u001b[0mchunk\u001b[0m\u001b[1;33m,\u001b[0m \u001b[0mabsences\u001b[0m\u001b[1;33m)\u001b[0m \u001b[1;32mfor\u001b[0m \u001b[0mchunk\u001b[0m \u001b[1;32min\u001b[0m \u001b[0mchunks\u001b[0m\u001b[1;33m]\u001b[0m\u001b[1;33m)\u001b[0m\u001b[1;33m\u001b[0m\u001b[1;33m\u001b[0m\u001b[0m\n\u001b[0m\u001b[0;32m     13\u001b[0m \u001b[1;33m\u001b[0m\u001b[0m\n\u001b[0;32m     14\u001b[0m \u001b[0mprint\u001b[0m\u001b[1;33m(\u001b[0m\u001b[0mresult\u001b[0m\u001b[1;33m)\u001b[0m\u001b[1;33m\u001b[0m\u001b[1;33m\u001b[0m\u001b[0m\n",
      "\u001b[1;32m~\\AppData\\Local\\Temp\\ipykernel_5632\\4043708540.py\u001b[0m in \u001b[0;36mprocess_chunk\u001b[1;34m(chunk, absences)\u001b[0m\n\u001b[0;32m      3\u001b[0m \u001b[1;31m# Define a function to process chunks\u001b[0m\u001b[1;33m\u001b[0m\u001b[1;33m\u001b[0m\u001b[0m\n\u001b[0;32m      4\u001b[0m \u001b[1;32mdef\u001b[0m \u001b[0mprocess_chunk\u001b[0m\u001b[1;33m(\u001b[0m\u001b[0mchunk\u001b[0m\u001b[1;33m,\u001b[0m \u001b[0mabsences\u001b[0m\u001b[1;33m)\u001b[0m\u001b[1;33m:\u001b[0m\u001b[1;33m\u001b[0m\u001b[1;33m\u001b[0m\u001b[0m\n\u001b[1;32m----> 5\u001b[1;33m     \u001b[1;32mreturn\u001b[0m \u001b[0mpd\u001b[0m\u001b[1;33m.\u001b[0m\u001b[0mmerge\u001b[0m\u001b[1;33m(\u001b[0m\u001b[0mchunk\u001b[0m\u001b[1;33m,\u001b[0m \u001b[0mabsences\u001b[0m\u001b[1;33m,\u001b[0m \u001b[0mon\u001b[0m\u001b[1;33m=\u001b[0m\u001b[1;34m'employee_number'\u001b[0m\u001b[1;33m,\u001b[0m \u001b[0mhow\u001b[0m\u001b[1;33m=\u001b[0m\u001b[1;34m'right'\u001b[0m\u001b[1;33m)\u001b[0m\u001b[1;33m\u001b[0m\u001b[1;33m\u001b[0m\u001b[0m\n\u001b[0m\u001b[0;32m      6\u001b[0m \u001b[1;33m\u001b[0m\u001b[0m\n\u001b[0;32m      7\u001b[0m \u001b[1;31m# Read the large dataset in chunks\u001b[0m\u001b[1;33m\u001b[0m\u001b[1;33m\u001b[0m\u001b[0m\n",
      "\u001b[1;32mC:\\ProgramData\\Anaconda3\\lib\\site-packages\\pandas\\core\\reshape\\merge.py\u001b[0m in \u001b[0;36mmerge\u001b[1;34m(left, right, how, on, left_on, right_on, left_index, right_index, sort, suffixes, copy, indicator, validate)\u001b[0m\n\u001b[0;32m    120\u001b[0m         \u001b[0mvalidate\u001b[0m\u001b[1;33m=\u001b[0m\u001b[0mvalidate\u001b[0m\u001b[1;33m,\u001b[0m\u001b[1;33m\u001b[0m\u001b[1;33m\u001b[0m\u001b[0m\n\u001b[0;32m    121\u001b[0m     )\n\u001b[1;32m--> 122\u001b[1;33m     \u001b[1;32mreturn\u001b[0m \u001b[0mop\u001b[0m\u001b[1;33m.\u001b[0m\u001b[0mget_result\u001b[0m\u001b[1;33m(\u001b[0m\u001b[1;33m)\u001b[0m\u001b[1;33m\u001b[0m\u001b[1;33m\u001b[0m\u001b[0m\n\u001b[0m\u001b[0;32m    123\u001b[0m \u001b[1;33m\u001b[0m\u001b[0m\n\u001b[0;32m    124\u001b[0m \u001b[1;33m\u001b[0m\u001b[0m\n",
      "\u001b[1;32mC:\\ProgramData\\Anaconda3\\lib\\site-packages\\pandas\\core\\reshape\\merge.py\u001b[0m in \u001b[0;36mget_result\u001b[1;34m(self)\u001b[0m\n\u001b[0;32m    723\u001b[0m         \u001b[0mrindexers\u001b[0m \u001b[1;33m=\u001b[0m \u001b[1;33m{\u001b[0m\u001b[1;36m1\u001b[0m\u001b[1;33m:\u001b[0m \u001b[0mright_indexer\u001b[0m\u001b[1;33m}\u001b[0m \u001b[1;32mif\u001b[0m \u001b[0mright_indexer\u001b[0m \u001b[1;32mis\u001b[0m \u001b[1;32mnot\u001b[0m \u001b[1;32mNone\u001b[0m \u001b[1;32melse\u001b[0m \u001b[1;33m{\u001b[0m\u001b[1;33m}\u001b[0m\u001b[1;33m\u001b[0m\u001b[1;33m\u001b[0m\u001b[0m\n\u001b[0;32m    724\u001b[0m \u001b[1;33m\u001b[0m\u001b[0m\n\u001b[1;32m--> 725\u001b[1;33m         result_data = concatenate_managers(\n\u001b[0m\u001b[0;32m    726\u001b[0m             \u001b[1;33m[\u001b[0m\u001b[1;33m(\u001b[0m\u001b[0mself\u001b[0m\u001b[1;33m.\u001b[0m\u001b[0mleft\u001b[0m\u001b[1;33m.\u001b[0m\u001b[0m_mgr\u001b[0m\u001b[1;33m,\u001b[0m \u001b[0mlindexers\u001b[0m\u001b[1;33m)\u001b[0m\u001b[1;33m,\u001b[0m \u001b[1;33m(\u001b[0m\u001b[0mself\u001b[0m\u001b[1;33m.\u001b[0m\u001b[0mright\u001b[0m\u001b[1;33m.\u001b[0m\u001b[0m_mgr\u001b[0m\u001b[1;33m,\u001b[0m \u001b[0mrindexers\u001b[0m\u001b[1;33m)\u001b[0m\u001b[1;33m]\u001b[0m\u001b[1;33m,\u001b[0m\u001b[1;33m\u001b[0m\u001b[1;33m\u001b[0m\u001b[0m\n\u001b[0;32m    727\u001b[0m             \u001b[0maxes\u001b[0m\u001b[1;33m=\u001b[0m\u001b[1;33m[\u001b[0m\u001b[0mllabels\u001b[0m\u001b[1;33m.\u001b[0m\u001b[0mappend\u001b[0m\u001b[1;33m(\u001b[0m\u001b[0mrlabels\u001b[0m\u001b[1;33m)\u001b[0m\u001b[1;33m,\u001b[0m \u001b[0mjoin_index\u001b[0m\u001b[1;33m]\u001b[0m\u001b[1;33m,\u001b[0m\u001b[1;33m\u001b[0m\u001b[1;33m\u001b[0m\u001b[0m\n",
      "\u001b[1;32mC:\\ProgramData\\Anaconda3\\lib\\site-packages\\pandas\\core\\internals\\concat.py\u001b[0m in \u001b[0;36mconcatenate_managers\u001b[1;34m(mgrs_indexers, axes, concat_axis, copy)\u001b[0m\n\u001b[0;32m    240\u001b[0m             \u001b[0mfastpath\u001b[0m \u001b[1;33m=\u001b[0m \u001b[0mblk\u001b[0m\u001b[1;33m.\u001b[0m\u001b[0mvalues\u001b[0m\u001b[1;33m.\u001b[0m\u001b[0mdtype\u001b[0m \u001b[1;33m==\u001b[0m \u001b[0mvalues\u001b[0m\u001b[1;33m.\u001b[0m\u001b[0mdtype\u001b[0m\u001b[1;33m\u001b[0m\u001b[1;33m\u001b[0m\u001b[0m\n\u001b[0;32m    241\u001b[0m         \u001b[1;32melse\u001b[0m\u001b[1;33m:\u001b[0m\u001b[1;33m\u001b[0m\u001b[1;33m\u001b[0m\u001b[0m\n\u001b[1;32m--> 242\u001b[1;33m             \u001b[0mvalues\u001b[0m \u001b[1;33m=\u001b[0m \u001b[0m_concatenate_join_units\u001b[0m\u001b[1;33m(\u001b[0m\u001b[0mjoin_units\u001b[0m\u001b[1;33m,\u001b[0m \u001b[0mconcat_axis\u001b[0m\u001b[1;33m,\u001b[0m \u001b[0mcopy\u001b[0m\u001b[1;33m=\u001b[0m\u001b[0mcopy\u001b[0m\u001b[1;33m)\u001b[0m\u001b[1;33m\u001b[0m\u001b[1;33m\u001b[0m\u001b[0m\n\u001b[0m\u001b[0;32m    243\u001b[0m             \u001b[0mfastpath\u001b[0m \u001b[1;33m=\u001b[0m \u001b[1;32mFalse\u001b[0m\u001b[1;33m\u001b[0m\u001b[1;33m\u001b[0m\u001b[0m\n\u001b[0;32m    244\u001b[0m \u001b[1;33m\u001b[0m\u001b[0m\n",
      "\u001b[1;32mC:\\ProgramData\\Anaconda3\\lib\\site-packages\\pandas\\core\\internals\\concat.py\u001b[0m in \u001b[0;36m_concatenate_join_units\u001b[1;34m(join_units, concat_axis, copy)\u001b[0m\n\u001b[0;32m    548\u001b[0m     \u001b[0mupcasted_na\u001b[0m \u001b[1;33m=\u001b[0m \u001b[0m_dtype_to_na_value\u001b[0m\u001b[1;33m(\u001b[0m\u001b[0mempty_dtype\u001b[0m\u001b[1;33m,\u001b[0m \u001b[0mhas_none_blocks\u001b[0m\u001b[1;33m)\u001b[0m\u001b[1;33m\u001b[0m\u001b[1;33m\u001b[0m\u001b[0m\n\u001b[0;32m    549\u001b[0m \u001b[1;33m\u001b[0m\u001b[0m\n\u001b[1;32m--> 550\u001b[1;33m     to_concat = [\n\u001b[0m\u001b[0;32m    551\u001b[0m         \u001b[0mju\u001b[0m\u001b[1;33m.\u001b[0m\u001b[0mget_reindexed_values\u001b[0m\u001b[1;33m(\u001b[0m\u001b[0mempty_dtype\u001b[0m\u001b[1;33m=\u001b[0m\u001b[0mempty_dtype\u001b[0m\u001b[1;33m,\u001b[0m \u001b[0mupcasted_na\u001b[0m\u001b[1;33m=\u001b[0m\u001b[0mupcasted_na\u001b[0m\u001b[1;33m)\u001b[0m\u001b[1;33m\u001b[0m\u001b[1;33m\u001b[0m\u001b[0m\n\u001b[0;32m    552\u001b[0m         \u001b[1;32mfor\u001b[0m \u001b[0mju\u001b[0m \u001b[1;32min\u001b[0m \u001b[0mjoin_units\u001b[0m\u001b[1;33m\u001b[0m\u001b[1;33m\u001b[0m\u001b[0m\n",
      "\u001b[1;32mC:\\ProgramData\\Anaconda3\\lib\\site-packages\\pandas\\core\\internals\\concat.py\u001b[0m in \u001b[0;36m<listcomp>\u001b[1;34m(.0)\u001b[0m\n\u001b[0;32m    549\u001b[0m \u001b[1;33m\u001b[0m\u001b[0m\n\u001b[0;32m    550\u001b[0m     to_concat = [\n\u001b[1;32m--> 551\u001b[1;33m         \u001b[0mju\u001b[0m\u001b[1;33m.\u001b[0m\u001b[0mget_reindexed_values\u001b[0m\u001b[1;33m(\u001b[0m\u001b[0mempty_dtype\u001b[0m\u001b[1;33m=\u001b[0m\u001b[0mempty_dtype\u001b[0m\u001b[1;33m,\u001b[0m \u001b[0mupcasted_na\u001b[0m\u001b[1;33m=\u001b[0m\u001b[0mupcasted_na\u001b[0m\u001b[1;33m)\u001b[0m\u001b[1;33m\u001b[0m\u001b[1;33m\u001b[0m\u001b[0m\n\u001b[0m\u001b[0;32m    552\u001b[0m         \u001b[1;32mfor\u001b[0m \u001b[0mju\u001b[0m \u001b[1;32min\u001b[0m \u001b[0mjoin_units\u001b[0m\u001b[1;33m\u001b[0m\u001b[1;33m\u001b[0m\u001b[0m\n\u001b[0;32m    553\u001b[0m     ]\n",
      "\u001b[1;32mC:\\ProgramData\\Anaconda3\\lib\\site-packages\\pandas\\core\\internals\\concat.py\u001b[0m in \u001b[0;36mget_reindexed_values\u001b[1;34m(self, empty_dtype, upcasted_na)\u001b[0m\n\u001b[0;32m    528\u001b[0m         \u001b[1;32melse\u001b[0m\u001b[1;33m:\u001b[0m\u001b[1;33m\u001b[0m\u001b[1;33m\u001b[0m\u001b[0m\n\u001b[0;32m    529\u001b[0m             \u001b[1;32mfor\u001b[0m \u001b[0max\u001b[0m\u001b[1;33m,\u001b[0m \u001b[0mindexer\u001b[0m \u001b[1;32min\u001b[0m \u001b[0mself\u001b[0m\u001b[1;33m.\u001b[0m\u001b[0mindexers\u001b[0m\u001b[1;33m.\u001b[0m\u001b[0mitems\u001b[0m\u001b[1;33m(\u001b[0m\u001b[1;33m)\u001b[0m\u001b[1;33m:\u001b[0m\u001b[1;33m\u001b[0m\u001b[1;33m\u001b[0m\u001b[0m\n\u001b[1;32m--> 530\u001b[1;33m                 \u001b[0mvalues\u001b[0m \u001b[1;33m=\u001b[0m \u001b[0malgos\u001b[0m\u001b[1;33m.\u001b[0m\u001b[0mtake_nd\u001b[0m\u001b[1;33m(\u001b[0m\u001b[0mvalues\u001b[0m\u001b[1;33m,\u001b[0m \u001b[0mindexer\u001b[0m\u001b[1;33m,\u001b[0m \u001b[0maxis\u001b[0m\u001b[1;33m=\u001b[0m\u001b[0max\u001b[0m\u001b[1;33m)\u001b[0m\u001b[1;33m\u001b[0m\u001b[1;33m\u001b[0m\u001b[0m\n\u001b[0m\u001b[0;32m    531\u001b[0m \u001b[1;33m\u001b[0m\u001b[0m\n\u001b[0;32m    532\u001b[0m         \u001b[1;32mreturn\u001b[0m \u001b[0mvalues\u001b[0m\u001b[1;33m\u001b[0m\u001b[1;33m\u001b[0m\u001b[0m\n",
      "\u001b[1;32mC:\\ProgramData\\Anaconda3\\lib\\site-packages\\pandas\\core\\array_algos\\take.py\u001b[0m in \u001b[0;36mtake_nd\u001b[1;34m(arr, indexer, axis, fill_value, allow_fill)\u001b[0m\n\u001b[0;32m    115\u001b[0m \u001b[1;33m\u001b[0m\u001b[0m\n\u001b[0;32m    116\u001b[0m     \u001b[0marr\u001b[0m \u001b[1;33m=\u001b[0m \u001b[0mnp\u001b[0m\u001b[1;33m.\u001b[0m\u001b[0masarray\u001b[0m\u001b[1;33m(\u001b[0m\u001b[0marr\u001b[0m\u001b[1;33m)\u001b[0m\u001b[1;33m\u001b[0m\u001b[1;33m\u001b[0m\u001b[0m\n\u001b[1;32m--> 117\u001b[1;33m     \u001b[1;32mreturn\u001b[0m \u001b[0m_take_nd_ndarray\u001b[0m\u001b[1;33m(\u001b[0m\u001b[0marr\u001b[0m\u001b[1;33m,\u001b[0m \u001b[0mindexer\u001b[0m\u001b[1;33m,\u001b[0m \u001b[0maxis\u001b[0m\u001b[1;33m,\u001b[0m \u001b[0mfill_value\u001b[0m\u001b[1;33m,\u001b[0m \u001b[0mallow_fill\u001b[0m\u001b[1;33m)\u001b[0m\u001b[1;33m\u001b[0m\u001b[1;33m\u001b[0m\u001b[0m\n\u001b[0m\u001b[0;32m    118\u001b[0m \u001b[1;33m\u001b[0m\u001b[0m\n\u001b[0;32m    119\u001b[0m \u001b[1;33m\u001b[0m\u001b[0m\n",
      "\u001b[1;32mC:\\ProgramData\\Anaconda3\\lib\\site-packages\\pandas\\core\\array_algos\\take.py\u001b[0m in \u001b[0;36m_take_nd_ndarray\u001b[1;34m(arr, indexer, axis, fill_value, allow_fill)\u001b[0m\n\u001b[0;32m    132\u001b[0m         \u001b[0mindexer\u001b[0m \u001b[1;33m=\u001b[0m \u001b[0mensure_platform_int\u001b[0m\u001b[1;33m(\u001b[0m\u001b[0mindexer\u001b[0m\u001b[1;33m)\u001b[0m\u001b[1;33m\u001b[0m\u001b[1;33m\u001b[0m\u001b[0m\n\u001b[0;32m    133\u001b[0m \u001b[1;33m\u001b[0m\u001b[0m\n\u001b[1;32m--> 134\u001b[1;33m     dtype, fill_value, mask_info = _take_preprocess_indexer_and_fill_value(\n\u001b[0m\u001b[0;32m    135\u001b[0m         \u001b[0marr\u001b[0m\u001b[1;33m,\u001b[0m \u001b[0mindexer\u001b[0m\u001b[1;33m,\u001b[0m \u001b[0mfill_value\u001b[0m\u001b[1;33m,\u001b[0m \u001b[0mallow_fill\u001b[0m\u001b[1;33m\u001b[0m\u001b[1;33m\u001b[0m\u001b[0m\n\u001b[0;32m    136\u001b[0m     )\n",
      "\u001b[1;32mC:\\ProgramData\\Anaconda3\\lib\\site-packages\\pandas\\core\\array_algos\\take.py\u001b[0m in \u001b[0;36m_take_preprocess_indexer_and_fill_value\u001b[1;34m(arr, indexer, fill_value, allow_fill, mask)\u001b[0m\n\u001b[0;32m    573\u001b[0m                 \u001b[0mneeds_masking\u001b[0m \u001b[1;33m=\u001b[0m \u001b[1;32mTrue\u001b[0m\u001b[1;33m\u001b[0m\u001b[1;33m\u001b[0m\u001b[0m\n\u001b[0;32m    574\u001b[0m             \u001b[1;32melse\u001b[0m\u001b[1;33m:\u001b[0m\u001b[1;33m\u001b[0m\u001b[1;33m\u001b[0m\u001b[0m\n\u001b[1;32m--> 575\u001b[1;33m                 \u001b[0mmask\u001b[0m \u001b[1;33m=\u001b[0m \u001b[0mindexer\u001b[0m \u001b[1;33m==\u001b[0m \u001b[1;33m-\u001b[0m\u001b[1;36m1\u001b[0m\u001b[1;33m\u001b[0m\u001b[1;33m\u001b[0m\u001b[0m\n\u001b[0m\u001b[0;32m    576\u001b[0m                 \u001b[0mneeds_masking\u001b[0m \u001b[1;33m=\u001b[0m \u001b[0mbool\u001b[0m\u001b[1;33m(\u001b[0m\u001b[0mmask\u001b[0m\u001b[1;33m.\u001b[0m\u001b[0many\u001b[0m\u001b[1;33m(\u001b[0m\u001b[1;33m)\u001b[0m\u001b[1;33m)\u001b[0m\u001b[1;33m\u001b[0m\u001b[1;33m\u001b[0m\u001b[0m\n\u001b[0;32m    577\u001b[0m             \u001b[0mmask_info\u001b[0m \u001b[1;33m=\u001b[0m \u001b[0mmask\u001b[0m\u001b[1;33m,\u001b[0m \u001b[0mneeds_masking\u001b[0m\u001b[1;33m\u001b[0m\u001b[1;33m\u001b[0m\u001b[0m\n",
      "\u001b[1;31mMemoryError\u001b[0m: Unable to allocate 1.70 MiB for an array with shape (1787530,) and data type bool"
     ]
    }
   ],
   "source": [
    "import pandas as pd\n",
    "\n",
    "# Define a function to process chunks\n",
    "def process_chunk(chunk, absences):\n",
    "    return pd.merge(chunk, absences, on='employee_number', how='right')\n",
    "\n",
    "# Read the large dataset in chunks\n",
    "chunk_size = 100000  # Adjust based on your memory capacity\n",
    "chunks = pd.read_csv(r\"C:\\Users\\s_sad\\Downloads\\colab\\required_data.csv\", chunksize=chunk_size)\n",
    "\n",
    "# Merge each chunk with the absences dataframe and store the results\n",
    "result = pd.concat([process_chunk(chunk, absences) for chunk in chunks])\n",
    "\n",
    "print(result)\n"
   ]
  },
  {
   "cell_type": "code",
   "execution_count": 41,
   "id": "6acad456",
   "metadata": {},
   "outputs": [
    {
     "ename": "MemoryError",
     "evalue": "Unable to allocate 4.59 GiB for an array with shape (616134676,) and data type int64",
     "output_type": "error",
     "traceback": [
      "\u001b[1;31m---------------------------------------------------------------------------\u001b[0m",
      "\u001b[1;31mMemoryError\u001b[0m                               Traceback (most recent call last)",
      "\u001b[1;32m~\\AppData\\Local\\Temp\\ipykernel_5632\\915513663.py\u001b[0m in \u001b[0;36m<module>\u001b[1;34m\u001b[0m\n\u001b[1;32m----> 1\u001b[1;33m \u001b[0mdf1\u001b[0m \u001b[1;33m=\u001b[0m \u001b[0mpd\u001b[0m\u001b[1;33m.\u001b[0m\u001b[0mmerge\u001b[0m\u001b[1;33m(\u001b[0m\u001b[0mrequired_data\u001b[0m\u001b[1;33m,\u001b[0m \u001b[0mabsences\u001b[0m\u001b[1;33m,\u001b[0m \u001b[0mon\u001b[0m\u001b[1;33m=\u001b[0m\u001b[1;34m'employee_number'\u001b[0m\u001b[1;33m,\u001b[0m \u001b[0mhow\u001b[0m\u001b[1;33m=\u001b[0m\u001b[1;34m'right'\u001b[0m\u001b[1;33m)\u001b[0m\u001b[1;33m\u001b[0m\u001b[1;33m\u001b[0m\u001b[0m\n\u001b[0m",
      "\u001b[1;32mC:\\ProgramData\\Anaconda3\\lib\\site-packages\\pandas\\core\\reshape\\merge.py\u001b[0m in \u001b[0;36mmerge\u001b[1;34m(left, right, how, on, left_on, right_on, left_index, right_index, sort, suffixes, copy, indicator, validate)\u001b[0m\n\u001b[0;32m    120\u001b[0m         \u001b[0mvalidate\u001b[0m\u001b[1;33m=\u001b[0m\u001b[0mvalidate\u001b[0m\u001b[1;33m,\u001b[0m\u001b[1;33m\u001b[0m\u001b[1;33m\u001b[0m\u001b[0m\n\u001b[0;32m    121\u001b[0m     )\n\u001b[1;32m--> 122\u001b[1;33m     \u001b[1;32mreturn\u001b[0m \u001b[0mop\u001b[0m\u001b[1;33m.\u001b[0m\u001b[0mget_result\u001b[0m\u001b[1;33m(\u001b[0m\u001b[1;33m)\u001b[0m\u001b[1;33m\u001b[0m\u001b[1;33m\u001b[0m\u001b[0m\n\u001b[0m\u001b[0;32m    123\u001b[0m \u001b[1;33m\u001b[0m\u001b[0m\n\u001b[0;32m    124\u001b[0m \u001b[1;33m\u001b[0m\u001b[0m\n",
      "\u001b[1;32mC:\\ProgramData\\Anaconda3\\lib\\site-packages\\pandas\\core\\reshape\\merge.py\u001b[0m in \u001b[0;36mget_result\u001b[1;34m(self)\u001b[0m\n\u001b[0;32m    714\u001b[0m             \u001b[0mself\u001b[0m\u001b[1;33m.\u001b[0m\u001b[0mleft\u001b[0m\u001b[1;33m,\u001b[0m \u001b[0mself\u001b[0m\u001b[1;33m.\u001b[0m\u001b[0mright\u001b[0m \u001b[1;33m=\u001b[0m \u001b[0mself\u001b[0m\u001b[1;33m.\u001b[0m\u001b[0m_indicator_pre_merge\u001b[0m\u001b[1;33m(\u001b[0m\u001b[0mself\u001b[0m\u001b[1;33m.\u001b[0m\u001b[0mleft\u001b[0m\u001b[1;33m,\u001b[0m \u001b[0mself\u001b[0m\u001b[1;33m.\u001b[0m\u001b[0mright\u001b[0m\u001b[1;33m)\u001b[0m\u001b[1;33m\u001b[0m\u001b[1;33m\u001b[0m\u001b[0m\n\u001b[0;32m    715\u001b[0m \u001b[1;33m\u001b[0m\u001b[0m\n\u001b[1;32m--> 716\u001b[1;33m         \u001b[0mjoin_index\u001b[0m\u001b[1;33m,\u001b[0m \u001b[0mleft_indexer\u001b[0m\u001b[1;33m,\u001b[0m \u001b[0mright_indexer\u001b[0m \u001b[1;33m=\u001b[0m \u001b[0mself\u001b[0m\u001b[1;33m.\u001b[0m\u001b[0m_get_join_info\u001b[0m\u001b[1;33m(\u001b[0m\u001b[1;33m)\u001b[0m\u001b[1;33m\u001b[0m\u001b[1;33m\u001b[0m\u001b[0m\n\u001b[0m\u001b[0;32m    717\u001b[0m \u001b[1;33m\u001b[0m\u001b[0m\n\u001b[0;32m    718\u001b[0m         llabels, rlabels = _items_overlap_with_suffix(\n",
      "\u001b[1;32mC:\\ProgramData\\Anaconda3\\lib\\site-packages\\pandas\\core\\reshape\\merge.py\u001b[0m in \u001b[0;36m_get_join_info\u001b[1;34m(self)\u001b[0m\n\u001b[0;32m    965\u001b[0m             )\n\u001b[0;32m    966\u001b[0m         \u001b[1;32melse\u001b[0m\u001b[1;33m:\u001b[0m\u001b[1;33m\u001b[0m\u001b[1;33m\u001b[0m\u001b[0m\n\u001b[1;32m--> 967\u001b[1;33m             \u001b[1;33m(\u001b[0m\u001b[0mleft_indexer\u001b[0m\u001b[1;33m,\u001b[0m \u001b[0mright_indexer\u001b[0m\u001b[1;33m)\u001b[0m \u001b[1;33m=\u001b[0m \u001b[0mself\u001b[0m\u001b[1;33m.\u001b[0m\u001b[0m_get_join_indexers\u001b[0m\u001b[1;33m(\u001b[0m\u001b[1;33m)\u001b[0m\u001b[1;33m\u001b[0m\u001b[1;33m\u001b[0m\u001b[0m\n\u001b[0m\u001b[0;32m    968\u001b[0m \u001b[1;33m\u001b[0m\u001b[0m\n\u001b[0;32m    969\u001b[0m             \u001b[1;32mif\u001b[0m \u001b[0mself\u001b[0m\u001b[1;33m.\u001b[0m\u001b[0mright_index\u001b[0m\u001b[1;33m:\u001b[0m\u001b[1;33m\u001b[0m\u001b[1;33m\u001b[0m\u001b[0m\n",
      "\u001b[1;32mC:\\ProgramData\\Anaconda3\\lib\\site-packages\\pandas\\core\\reshape\\merge.py\u001b[0m in \u001b[0;36m_get_join_indexers\u001b[1;34m(self)\u001b[0m\n\u001b[0;32m    939\u001b[0m     \u001b[1;32mdef\u001b[0m \u001b[0m_get_join_indexers\u001b[0m\u001b[1;33m(\u001b[0m\u001b[0mself\u001b[0m\u001b[1;33m)\u001b[0m \u001b[1;33m->\u001b[0m \u001b[0mtuple\u001b[0m\u001b[1;33m[\u001b[0m\u001b[0mnpt\u001b[0m\u001b[1;33m.\u001b[0m\u001b[0mNDArray\u001b[0m\u001b[1;33m[\u001b[0m\u001b[0mnp\u001b[0m\u001b[1;33m.\u001b[0m\u001b[0mintp\u001b[0m\u001b[1;33m]\u001b[0m\u001b[1;33m,\u001b[0m \u001b[0mnpt\u001b[0m\u001b[1;33m.\u001b[0m\u001b[0mNDArray\u001b[0m\u001b[1;33m[\u001b[0m\u001b[0mnp\u001b[0m\u001b[1;33m.\u001b[0m\u001b[0mintp\u001b[0m\u001b[1;33m]\u001b[0m\u001b[1;33m]\u001b[0m\u001b[1;33m:\u001b[0m\u001b[1;33m\u001b[0m\u001b[1;33m\u001b[0m\u001b[0m\n\u001b[0;32m    940\u001b[0m         \u001b[1;34m\"\"\"return the join indexers\"\"\"\u001b[0m\u001b[1;33m\u001b[0m\u001b[1;33m\u001b[0m\u001b[0m\n\u001b[1;32m--> 941\u001b[1;33m         return get_join_indexers(\n\u001b[0m\u001b[0;32m    942\u001b[0m             \u001b[0mself\u001b[0m\u001b[1;33m.\u001b[0m\u001b[0mleft_join_keys\u001b[0m\u001b[1;33m,\u001b[0m \u001b[0mself\u001b[0m\u001b[1;33m.\u001b[0m\u001b[0mright_join_keys\u001b[0m\u001b[1;33m,\u001b[0m \u001b[0msort\u001b[0m\u001b[1;33m=\u001b[0m\u001b[0mself\u001b[0m\u001b[1;33m.\u001b[0m\u001b[0msort\u001b[0m\u001b[1;33m,\u001b[0m \u001b[0mhow\u001b[0m\u001b[1;33m=\u001b[0m\u001b[0mself\u001b[0m\u001b[1;33m.\u001b[0m\u001b[0mhow\u001b[0m\u001b[1;33m\u001b[0m\u001b[1;33m\u001b[0m\u001b[0m\n\u001b[0;32m    943\u001b[0m         )\n",
      "\u001b[1;32mC:\\ProgramData\\Anaconda3\\lib\\site-packages\\pandas\\core\\reshape\\merge.py\u001b[0m in \u001b[0;36mget_join_indexers\u001b[1;34m(left_keys, right_keys, sort, how, **kwargs)\u001b[0m\n\u001b[0;32m   1511\u001b[0m \u001b[1;33m\u001b[0m\u001b[0m\n\u001b[0;32m   1512\u001b[0m     \u001b[1;31m# error: Cannot call function of unknown type\u001b[0m\u001b[1;33m\u001b[0m\u001b[1;33m\u001b[0m\u001b[0m\n\u001b[1;32m-> 1513\u001b[1;33m     \u001b[1;32mreturn\u001b[0m \u001b[0mjoin_func\u001b[0m\u001b[1;33m(\u001b[0m\u001b[0mlkey\u001b[0m\u001b[1;33m,\u001b[0m \u001b[0mrkey\u001b[0m\u001b[1;33m,\u001b[0m \u001b[0mcount\u001b[0m\u001b[1;33m,\u001b[0m \u001b[1;33m**\u001b[0m\u001b[0mkwargs\u001b[0m\u001b[1;33m)\u001b[0m  \u001b[1;31m# type: ignore[operator]\u001b[0m\u001b[1;33m\u001b[0m\u001b[1;33m\u001b[0m\u001b[0m\n\u001b[0m\u001b[0;32m   1514\u001b[0m \u001b[1;33m\u001b[0m\u001b[0m\n\u001b[0;32m   1515\u001b[0m \u001b[1;33m\u001b[0m\u001b[0m\n",
      "\u001b[1;32mC:\\ProgramData\\Anaconda3\\lib\\site-packages\\pandas\\core\\reshape\\merge.py\u001b[0m in \u001b[0;36m<lambda>\u001b[1;34m(x, y, count, **kwargs)\u001b[0m\n\u001b[0;32m   1504\u001b[0m         \u001b[1;34m\"inner\"\u001b[0m\u001b[1;33m:\u001b[0m \u001b[0mlibjoin\u001b[0m\u001b[1;33m.\u001b[0m\u001b[0minner_join\u001b[0m\u001b[1;33m,\u001b[0m\u001b[1;33m\u001b[0m\u001b[1;33m\u001b[0m\u001b[0m\n\u001b[0;32m   1505\u001b[0m         \u001b[1;34m\"left\"\u001b[0m\u001b[1;33m:\u001b[0m \u001b[0mlibjoin\u001b[0m\u001b[1;33m.\u001b[0m\u001b[0mleft_outer_join\u001b[0m\u001b[1;33m,\u001b[0m\u001b[1;33m\u001b[0m\u001b[1;33m\u001b[0m\u001b[0m\n\u001b[1;32m-> 1506\u001b[1;33m         \"right\": lambda x, y, count, **kwargs: libjoin.left_outer_join(\n\u001b[0m\u001b[0;32m   1507\u001b[0m             \u001b[0my\u001b[0m\u001b[1;33m,\u001b[0m \u001b[0mx\u001b[0m\u001b[1;33m,\u001b[0m \u001b[0mcount\u001b[0m\u001b[1;33m,\u001b[0m \u001b[1;33m**\u001b[0m\u001b[0mkwargs\u001b[0m\u001b[1;33m\u001b[0m\u001b[1;33m\u001b[0m\u001b[0m\n\u001b[0;32m   1508\u001b[0m         )[::-1],\n",
      "\u001b[1;32mC:\\ProgramData\\Anaconda3\\lib\\site-packages\\pandas\\_libs\\join.pyx\u001b[0m in \u001b[0;36mpandas._libs.join.left_outer_join\u001b[1;34m()\u001b[0m\n",
      "\u001b[1;32mC:\\ProgramData\\Anaconda3\\lib\\site-packages\\pandas\\_libs\\algos.pyx\u001b[0m in \u001b[0;36mpandas._libs.algos.groupsort_indexer\u001b[1;34m()\u001b[0m\n",
      "\u001b[1;31mMemoryError\u001b[0m: Unable to allocate 4.59 GiB for an array with shape (616134676,) and data type int64"
     ]
    }
   ],
   "source": [
    "df1 = pd.merge(required_data, absences, on='employee_number', how='right')"
   ]
  },
  {
   "cell_type": "code",
   "execution_count": null,
   "id": "239f3058",
   "metadata": {},
   "outputs": [],
   "source": [
    "import dask.dataframe as dd\n",
    "\n",
    "# Load dataframes as Dask dataframes\n",
    "required_data_dd = dd.from_pandas(required_data, npartitions=10)\n",
    "absences_dd = dd.from_pandas(absences, npartitions=10)\n",
    "\n",
    "# Perform the merge\n",
    "result_dd = dd.merge(required_data_dd, absences_dd, on='employee_number', how='right')\n",
    "\n",
    "# Compute the result\n",
    "result = result_dd.compute()\n",
    "\n",
    "print(result)\n"
   ]
  },
  {
   "cell_type": "code",
   "execution_count": null,
   "id": "ced03c61",
   "metadata": {},
   "outputs": [],
   "source": []
  }
 ],
 "metadata": {
  "kernelspec": {
   "display_name": "Python 3 (ipykernel)",
   "language": "python",
   "name": "python3"
  },
  "language_info": {
   "codemirror_mode": {
    "name": "ipython",
    "version": 3
   },
   "file_extension": ".py",
   "mimetype": "text/x-python",
   "name": "python",
   "nbconvert_exporter": "python",
   "pygments_lexer": "ipython3",
   "version": "3.9.13"
  }
 },
 "nbformat": 4,
 "nbformat_minor": 5
}
